{
 "cells": [
  {
   "cell_type": "code",
   "execution_count": 93,
   "metadata": {
    "collapsed": true
   },
   "outputs": [],
   "source": [
    "import pandas as pd\n",
    "import numpy as np\n",
    "import os\n",
    "import json\n",
    "import glob\n",
    "import sqlite3\n",
    "\n",
    "import matplotlib.pyplot as plt\n",
    "import seaborn as sns\n",
    "%matplotlib inline\n",
    "\n",
    "from sklearn.feature_extraction.text import CountVectorizer\n",
    "from sklearn.linear_model import LinearRegression\n",
    "from sklearn.ensemble import RandomForestRegressor\n",
    "import statsmodels.api as sm\n"
   ]
  },
  {
   "cell_type": "code",
   "execution_count": 2,
   "metadata": {
    "collapsed": true
   },
   "outputs": [],
   "source": [
    "with open('../parameters.json') as json_data:\n",
    "    params = json.load(json_data)\n",
    "\n",
    "DATA_DIR = params['DIRECTORIES']['DATA_DIR']\n",
    "TMP_DIR = params['DIRECTORIES']['TMP_DIR']\n",
    "PRICE_FILE = params['FILES']['PRICE_FILE']\n",
    "STATION_FILE = params['FILES']['STATION_FILE']\n",
    "SERVICE_FILE = params['FILES']['SERVICE_FILE']\n",
    "GAS_DB = os.path.join(DATA_DIR, params['DATABASES']['GAS_DB'])"
   ]
  },
  {
   "cell_type": "code",
   "execution_count": 4,
   "metadata": {},
   "outputs": [],
   "source": [
    "dfall = pd.read_pickle(os.path.join(DATA_DIR,PRICE_FILE))\n",
    "dfservices = pd.read_pickle(os.path.join(DATA_DIR,SERVICE_FILE))\n",
    "dfstations = pd.read_pickle(os.path.join(DATA_DIR,STATION_FILE))"
   ]
  },
  {
   "cell_type": "code",
   "execution_count": 8,
   "metadata": {
    "collapsed": true
   },
   "outputs": [],
   "source": [
    "dfall['date_releve'] = pd.to_datetime(dfall.date_releve)"
   ]
  },
  {
   "cell_type": "markdown",
   "metadata": {},
   "source": [
    "### Calcul de l'indice de prix hebdomadaire"
   ]
  },
  {
   "cell_type": "code",
   "execution_count": 14,
   "metadata": {},
   "outputs": [],
   "source": [
    "moyenne_hebdo_df = (dfall\n",
    " .dropna(subset=['date_releve'])\n",
    " .groupby(['libelle_carburant', pd.Grouper(key='date_releve', freq='1W-MON')])\n",
    " .agg({'prix': np.mean})\n",
    " .reset_index()\n",
    ")"
   ]
  },
  {
   "cell_type": "code",
   "execution_count": 26,
   "metadata": {},
   "outputs": [],
   "source": [
    "model_df = (dfall\n",
    " .dropna(subset=['date_releve'])\n",
    " .groupby(['id_station', 'code_postal', 'type_station', 'libelle_carburant',\n",
    "           pd.Grouper(key='date_releve', freq='1W-MON')])\n",
    " .agg({'prix': np.mean})\n",
    " .reset_index()\n",
    " .merge(moyenne_hebdo_df, how='inner', on=['libelle_carburant', 'date_releve'],\n",
    "          suffixes=('', '_moyen'))\n",
    " .assign(indice = lambda _df: _df['prix'] / _df['prix_moyen'])\n",
    ")"
   ]
  },
  {
   "cell_type": "markdown",
   "metadata": {},
   "source": [
    "### Construction du vecteur de services"
   ]
  },
  {
   "cell_type": "code",
   "execution_count": 37,
   "metadata": {},
   "outputs": [],
   "source": [
    "vectorize = CountVectorizer(tokenizer=lambda x: x.split(','), lowercase=False)"
   ]
  },
  {
   "cell_type": "code",
   "execution_count": 42,
   "metadata": {},
   "outputs": [],
   "source": [
    "matrice_services_df = pd.SparseDataFrame(vectorize.fit_transform(dfservices.services.fillna('Rien')),\n",
    "                   dfservices.id_station,\n",
    "                   vectorize.get_feature_names(),\n",
    "                   default_fill_value=0\n",
    "                  ).reset_index()"
   ]
  },
  {
   "cell_type": "raw",
   "metadata": {},
   "source": [
    "assert (model_df\n",
    " .merge(matrice_services_df, how='outer', on=['id_station'], indicator=True)\n",
    " ['_merge']\n",
    " .value_counts())"
   ]
  },
  {
   "cell_type": "code",
   "execution_count": 128,
   "metadata": {},
   "outputs": [],
   "source": [
    "model_services_df = model_df.merge(matrice_services_df, how='inner', on=['id_station'])\n",
    "model_services_df['Rural'] = np.where(model_services_df.type_station == 'R', 1, 0)"
   ]
  },
  {
   "cell_type": "code",
   "execution_count": 133,
   "metadata": {},
   "outputs": [],
   "source": [
    "liste_variables = list(set(matrice_services_df.columns)-{'id_station'} | {'Rural'})"
   ]
  },
  {
   "cell_type": "markdown",
   "metadata": {},
   "source": [
    "### Modélisation (régression linéaire)"
   ]
  },
  {
   "cell_type": "code",
   "execution_count": 135,
   "metadata": {
    "collapsed": true
   },
   "outputs": [],
   "source": [
    "lr = LinearRegression(fit_intercept=True)"
   ]
  },
  {
   "cell_type": "code",
   "execution_count": 136,
   "metadata": {},
   "outputs": [
    {
     "data": {
      "text/plain": [
       "LinearRegression(copy_X=True, fit_intercept=True, n_jobs=1, normalize=False)"
      ]
     },
     "execution_count": 136,
     "metadata": {},
     "output_type": "execute_result"
    }
   ],
   "source": [
    "lr.fit(X=model_services_df[liste_variables],\n",
    "       y=model_services_df.indice)"
   ]
  },
  {
   "cell_type": "code",
   "execution_count": 137,
   "metadata": {},
   "outputs": [],
   "source": [
    "resultats = pd.DataFrame(\n",
    "    [(f, c) for f, c in zip(liste_variables, lr.coef_)],\n",
    "    columns=['Service', 'Coefficient']).sort_values('Coefficient', ascending=False)"
   ]
  },
  {
   "cell_type": "code",
   "execution_count": 138,
   "metadata": {},
   "outputs": [
    {
     "data": {
      "text/plain": [
       "<matplotlib.axes._subplots.AxesSubplot at 0x16226a89ba8>"
      ]
     },
     "execution_count": 138,
     "metadata": {},
     "output_type": "execute_result"
    },
    {
     "data": {
      "image/png": "[encoded data removed]",
      "text/plain": [
       "<matplotlib.figure.Figure at 0x162272b6da0>"
      ]
     },
     "metadata": {},
     "output_type": "display_data"
    }
   ],
   "source": [
    "resultats.set_index('Service').plot(kind='barh')"
   ]
  },
  {
   "cell_type": "code",
   "execution_count": 139,
   "metadata": {},
   "outputs": [
    {
     "name": "stdout",
     "output_type": "stream",
     "text": [
      "                            OLS Regression Results                            \n",
      "==============================================================================\n",
      "Dep. Variable:                 indice   R-squared:                       0.400\n",
      "Model:                            OLS   Adj. R-squared:                  0.400\n",
      "Method:                 Least Squares   F-statistic:                 8.269e+04\n",
      "Date:                Fri, 02 Feb 2018   Prob (F-statistic):               0.00\n",
      "Time:                        16:48:53   Log-Likelihood:             6.0605e+06\n",
      "No. Observations:             3220964   AIC:                        -1.212e+07\n",
      "Df Residuals:                 3220937   BIC:                        -1.212e+07\n",
      "Df Model:                          26                                         \n",
      "Covariance Type:            nonrobust                                         \n",
      "================================================================================================\n",
      "                                   coef    std err          t      P>|t|      [0.025      0.975]\n",
      "------------------------------------------------------------------------------------------------\n",
      "const                            1.0821      0.000   7477.684      0.000       1.082       1.082\n",
      "Toilettes publiques              0.0174   6.09e-05    285.685      0.000       0.017       0.018\n",
      "Carburant qualité supérieure     0.0148   5.92e-05    250.885      0.000       0.015       0.015\n",
      "Vente de gaz domestique         -0.0102   5.68e-05   -179.886      0.000      -0.010      -0.010\n",
      "Piste poids lourds              -0.0007   5.11e-05    -14.483      0.000      -0.001      -0.001\n",
      "Station de lavage               -0.0006   5.86e-05     -9.630      0.000      -0.001      -0.000\n",
      "Restauration sur place          -0.0111      0.000   -106.929      0.000      -0.011      -0.011\n",
      "Espace bébé / change            -0.0104      0.000    -78.299      0.000      -0.011      -0.010\n",
      "Location de véhicule            -0.0075   6.96e-05   -108.121      0.000      -0.008      -0.007\n",
      "Lavage haute-pression            0.0019   6.07e-05     31.670      0.000       0.002       0.002\n",
      "Baie de service auto             0.0211   7.64e-05    275.893      0.000       0.021       0.021\n",
      "Laverie                         -0.0059      0.000    -54.862      0.000      -0.006      -0.006\n",
      "GPL                             -0.0100   5.94e-05   -167.538      0.000      -0.010      -0.010\n",
      "Boutique non alimentaire         0.0052   6.93e-05     74.542      0.000       0.005       0.005\n",
      "Lavage multi-programmes         -0.0024   6.42e-05    -37.107      0.000      -0.003      -0.002\n",
      "Douches                          0.0137      0.000     88.211      0.000       0.013       0.014\n",
      "Rural                           -0.0752      0.000   -553.303      0.000      -0.075      -0.075\n",
      "Aire de camping-cars            -0.0025      0.000    -22.065      0.000      -0.003      -0.002\n",
      "Vente de fioul domestique        0.0071   6.86e-05    103.909      0.000       0.007       0.007\n",
      "Automate CB                     -0.0170   5.35e-05   -318.545      0.000      -0.017      -0.017\n",
      "Boutique alimentaire            -0.0024   7.21e-05    -33.423      0.000      -0.003      -0.002\n",
      "Vente de pétrole lampant        -0.0059   7.53e-05    -78.632      0.000      -0.006      -0.006\n",
      "Bar                             -0.0062      0.000    -56.075      0.000      -0.006      -0.006\n",
      "Rien                            -0.0130   9.08e-05   -143.578      0.000      -0.013      -0.013\n",
      "Relais colis                     0.0043   9.16e-05     47.221      0.000       0.004       0.005\n",
      "Station de gonflage              0.0084   5.88e-05    142.725      0.000       0.008       0.009\n",
      "Restauration à emporter         -0.0039    7.6e-05    -50.937      0.000      -0.004      -0.004\n",
      "==============================================================================\n",
      "Omnibus:                  2070315.674   Durbin-Watson:                   0.350\n",
      "Prob(Omnibus):                  0.000   Jarque-Bera (JB):        361740911.871\n",
      "Skew:                           2.089   Prob(JB):                         0.00\n",
      "Kurtosis:                      54.749   Cond. No.                         21.9\n",
      "==============================================================================\n",
      "\n",
      "Warnings:\n",
      "[1] Standard Errors assume that the covariance matrix of the errors is correctly specified.\n"
     ]
    }
   ],
   "source": [
    "X2 = sm.add_constant(model_services_df[liste_variables])\n",
    "est = sm.OLS(model_services_df.indice, X2)\n",
    "est2 = est.fit()\n",
    "print(est2.summary())"
   ]
  },
  {
   "cell_type": "markdown",
   "metadata": {},
   "source": [
    "### Modélisation (*Random Regressor*)"
   ]
  },
  {
   "cell_type": "code",
   "execution_count": 94,
   "metadata": {
    "collapsed": true
   },
   "outputs": [],
   "source": [
    "rf = RandomForestRegressor()"
   ]
  },
  {
   "cell_type": "code",
   "execution_count": 140,
   "metadata": {},
   "outputs": [
    {
     "data": {
      "text/plain": [
       "RandomForestRegressor(bootstrap=True, criterion='mse', max_depth=None,\n",
       "           max_features='auto', max_leaf_nodes=None,\n",
       "           min_impurity_split=1e-07, min_samples_leaf=1,\n",
       "           min_samples_split=2, min_weight_fraction_leaf=0.0,\n",
       "           n_estimators=10, n_jobs=1, oob_score=False, random_state=None,\n",
       "           verbose=0, warm_start=False)"
      ]
     },
     "execution_count": 140,
     "metadata": {},
     "output_type": "execute_result"
    }
   ],
   "source": [
    "rf.fit(X=model_services_df[liste_variables],\n",
    "       y=model_services_df.indice)"
   ]
  },
  {
   "cell_type": "code",
   "execution_count": 141,
   "metadata": {
    "collapsed": true
   },
   "outputs": [],
   "source": [
    "resultats_rf = pd.DataFrame(\n",
    "    [(f, c) for f, c in zip(liste_variables,\n",
    "                            rf.feature_importances_)],\n",
    "    columns=['Service', 'Coefficient']).sort_values('Coefficient', ascending=False)"
   ]
  },
  {
   "cell_type": "code",
   "execution_count": 142,
   "metadata": {},
   "outputs": [
    {
     "data": {
      "text/plain": [
       "<matplotlib.axes._subplots.AxesSubplot at 0x1621eabcac8>"
      ]
     },
     "execution_count": 142,
     "metadata": {},
     "output_type": "execute_result"
    },
    {
     "data": {
      "image/png": "[encoded data removed]",
      "text/plain": [
       "<matplotlib.figure.Figure at 0x16227209908>"
      ]
     },
     "metadata": {},
     "output_type": "display_data"
    }
   ],
   "source": [
    "resultats_rf.set_index('Service').plot(kind='barh')"
   ]
  },
  {
   "cell_type": "code",
   "execution_count": 143,
   "metadata": {},
   "outputs": [
    {
     "data": {
      "text/plain": [
       "Rural\n",
       "0    1.093417\n",
       "1    0.998797\n",
       "Name: indice, dtype: float64"
      ]
     },
     "execution_count": 143,
     "metadata": {},
     "output_type": "execute_result"
    }
   ],
   "source": [
    "model_services_df.groupby('Rural')['indice'].mean()"
   ]
  },
  {
   "cell_type": "code",
   "execution_count": null,
   "metadata": {
    "collapsed": true
   },
   "outputs": [],
   "source": []
  },
  {
   "cell_type": "code",
   "execution_count": null,
   "metadata": {
    "collapsed": true
   },
   "outputs": [],
   "source": []
  },
  {
   "cell_type": "code",
   "execution_count": null,
   "metadata": {
    "collapsed": true
   },
   "outputs": [],
   "source": []
  },
  {
   "cell_type": "code",
   "execution_count": null,
   "metadata": {
    "collapsed": true
   },
   "outputs": [],
   "source": []
  },
  {
   "cell_type": "code",
   "execution_count": null,
   "metadata": {
    "collapsed": true
   },
   "outputs": [],
   "source": []
  }
 ],
 "metadata": {
  "kernelspec": {
   "display_name": "Python 3",
   "language": "python",
   "name": "python3"
  },
  "language_info": {
   "codemirror_mode": {
    "name": "ipython",
    "version": 3
   },
   "file_extension": ".py",
   "mimetype": "text/x-python",
   "name": "python",
   "nbconvert_exporter": "python",
   "pygments_lexer": "ipython3",
   "version": "3.6.1"
  }
 },
 "nbformat": 4,
 "nbformat_minor": 2
}
