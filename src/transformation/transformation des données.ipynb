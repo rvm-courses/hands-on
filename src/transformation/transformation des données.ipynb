{
 "cells": [
  {
   "cell_type": "code",
   "execution_count": 93,
   "metadata": {
    "collapsed": true
   },
   "outputs": [],
   "source": [
    "import pandas as pd\n",
    "import numpy as np\n",
    "import os\n",
    "import json\n",
    "import glob\n",
    "import sqlite3\n",
    "\n",
    "import matplotlib.pyplot as plt\n",
    "import seaborn as sns\n",
    "%matplotlib inline\n",
    "\n",
    "from sklearn.feature_extraction.text import CountVectorizer\n",
    "from sklearn.linear_model import LinearRegression\n",
    "from sklearn.ensemble import RandomForestRegressor\n",
    "import statsmodels.api as sm\n"
   ]
  },
  {
   "cell_type": "code",
   "execution_count": 2,
   "metadata": {
    "collapsed": true
   },
   "outputs": [],
   "source": [
    "with open('../parameters.json') as json_data:\n",
    "    params = json.load(json_data)\n",
    "\n",
    "DATA_DIR = params['DIRECTORIES']['DATA_DIR']\n",
    "TMP_DIR = params['DIRECTORIES']['TMP_DIR']\n",
    "PRICE_FILE = params['FILES']['PRICE_FILE']\n",
    "STATION_FILE = params['FILES']['STATION_FILE']\n",
    "SERVICE_FILE = params['FILES']['SERVICE_FILE']\n",
    "GAS_DB = os.path.join(DATA_DIR, params['DATABASES']['GAS_DB'])"
   ]
  },
  {
   "cell_type": "code",
   "execution_count": 4,
   "metadata": {},
   "outputs": [],
   "source": [
    "dfall = pd.read_pickle(os.path.join(DATA_DIR,PRICE_FILE))\n",
    "dfservices = pd.read_pickle(os.path.join(DATA_DIR,SERVICE_FILE))\n",
    "dfstations = pd.read_pickle(os.path.join(DATA_DIR,STATION_FILE))"
   ]
  },
  {
   "cell_type": "code",
   "execution_count": 8,
   "metadata": {
    "collapsed": true
   },
   "outputs": [],
   "source": [
    "dfall['date_releve'] = pd.to_datetime(dfall.date_releve)"
   ]
  },
  {
   "cell_type": "markdown",
   "metadata": {},
   "source": [
    "### Calcul de l'indice de prix hebdomadaire"
   ]
  },
  {
   "cell_type": "code",
   "execution_count": 14,
   "metadata": {},
   "outputs": [],
   "source": [
    "moyenne_hebdo_df = (dfall\n",
    " .dropna(subset=['date_releve'])\n",
    " .groupby(['libelle_carburant', pd.Grouper(key='date_releve', freq='1W-MON')])\n",
    " .agg({'prix': np.mean})\n",
    " .reset_index()\n",
    ")"
   ]
  },
  {
   "cell_type": "code",
   "execution_count": 26,
   "metadata": {},
   "outputs": [],
   "source": [
    "model_df = (dfall\n",
    " .dropna(subset=['date_releve'])\n",
    " .groupby(['id_station', 'code_postal', 'type_station', 'libelle_carburant',\n",
    "           pd.Grouper(key='date_releve', freq='1W-MON')])\n",
    " .agg({'prix': np.mean})\n",
    " .reset_index()\n",
    " .merge(moyenne_hebdo_df, how='inner', on=['libelle_carburant', 'date_releve'],\n",
    "          suffixes=('', '_moyen'))\n",
    " .assign(indice = lambda _df: _df['prix'] / _df['prix_moyen'])\n",
    ")"
   ]
  },
  {
   "cell_type": "markdown",
   "metadata": {},
   "source": [
    "### Construction du vecteur de services"
   ]
  },
  {
   "cell_type": "code",
   "execution_count": 37,
   "metadata": {},
   "outputs": [],
   "source": [
    "vectorize = CountVectorizer(tokenizer=lambda x: x.split(','), lowercase=False)"
   ]
  },
  {
   "cell_type": "code",
   "execution_count": 42,
   "metadata": {},
   "outputs": [],
   "source": [
    "matrice_services_df = pd.SparseDataFrame(vectorize.fit_transform(dfservices.services.fillna('Rien')),\n",
    "                   dfservices.id_station,\n",
    "                   vectorize.get_feature_names(),\n",
    "                   default_fill_value=0\n",
    "                  ).reset_index()"
   ]
  },
  {
   "cell_type": "raw",
   "metadata": {},
   "source": [
    "assert (model_df\n",
    " .merge(matrice_services_df, how='outer', on=['id_station'], indicator=True)\n",
    " ['_merge']\n",
    " .value_counts())"
   ]
  },
  {
   "cell_type": "code",
   "execution_count": 51,
   "metadata": {},
   "outputs": [],
   "source": [
    "model_services_df = model_df.merge(matrice_services_df, how='inner', on=['id_station'])"
   ]
  },
  {
   "cell_type": "markdown",
   "metadata": {},
   "source": [
    "### Modélisation (régression linéaire)"
   ]
  },
  {
   "cell_type": "code",
   "execution_count": 117,
   "metadata": {
    "collapsed": true
   },
   "outputs": [],
   "source": [
    "lr = LinearRegression(fit_intercept=True)"
   ]
  },
  {
   "cell_type": "code",
   "execution_count": 118,
   "metadata": {},
   "outputs": [
    {
     "data": {
      "text/plain": [
       "LinearRegression(copy_X=True, fit_intercept=True, n_jobs=1, normalize=False)"
      ]
     },
     "execution_count": 118,
     "metadata": {},
     "output_type": "execute_result"
    }
   ],
   "source": [
    "lr.fit(X=model_services_df[list(set(matrice_services_df.columns)-{'id_station'})],\n",
    "       y=model_services_df.indice)"
   ]
  },
  {
   "cell_type": "code",
   "execution_count": 126,
   "metadata": {},
   "outputs": [],
   "source": [
    "resultats = pd.DataFrame(\n",
    "    [(f, c) for f, c in zip(list(set(matrice_services_df.columns)-{'id_station'}), lr.coef_)],\n",
    "    columns=['Service', 'Coefficient']).sort_values('Coefficient', ascending=False)"
   ]
  },
  {
   "cell_type": "code",
   "execution_count": 127,
   "metadata": {},
   "outputs": [
    {
     "data": {
      "text/plain": [
       "<matplotlib.axes._subplots.AxesSubplot at 0x162272cb278>"
      ]
     },
     "execution_count": 127,
     "metadata": {},
     "output_type": "execute_result"
    },
    {
     "data": {
      "image/png": "[encoded data removed]",
      "text/plain": [
       "<matplotlib.figure.Figure at 0x162284c86d8>"
      ]
     },
     "metadata": {},
     "output_type": "display_data"
    }
   ],
   "source": [
    "resultats.set_index('Service').plot(kind='barh')"
   ]
  },
  {
   "cell_type": "code",
   "execution_count": 125,
   "metadata": {},
   "outputs": [
    {
     "name": "stdout",
     "output_type": "stream",
     "text": [
      "                            OLS Regression Results                            \n",
      "==============================================================================\n",
      "Dep. Variable:                 indice   R-squared:                       0.343\n",
      "Model:                            OLS   Adj. R-squared:                  0.343\n",
      "Method:                 Least Squares   F-statistic:                 6.735e+04\n",
      "Date:                Fri, 02 Feb 2018   Prob (F-statistic):               0.00\n",
      "Time:                        16:29:13   Log-Likelihood:             5.9143e+06\n",
      "No. Observations:             3220964   AIC:                        -1.183e+07\n",
      "Df Residuals:                 3220938   BIC:                        -1.183e+07\n",
      "Df Model:                          25                                         \n",
      "Covariance Type:            nonrobust                                         \n",
      "================================================================================================\n",
      "                                   coef    std err          t      P>|t|      [0.025      0.975]\n",
      "------------------------------------------------------------------------------------------------\n",
      "const                            1.0122   7.39e-05   1.37e+04      0.000       1.012       1.012\n",
      "Toilettes publiques              0.0184   6.37e-05    288.476      0.000       0.018       0.019\n",
      "Carburant qualité supérieure     0.0142   6.19e-05    228.954      0.000       0.014       0.014\n",
      "Vente de gaz domestique         -0.0150   5.87e-05   -254.860      0.000      -0.015      -0.015\n",
      "Piste poids lourds              -0.0005   5.35e-05     -8.874      0.000      -0.001      -0.000\n",
      "Station de lavage               -0.0009   6.13e-05    -14.090      0.000      -0.001      -0.001\n",
      "Restauration sur place          -0.0131      0.000   -120.090      0.000      -0.013      -0.013\n",
      "Espace bébé / change             0.0070      0.000     51.928      0.000       0.007       0.007\n",
      "Location de véhicule            -0.0076   7.28e-05   -104.607      0.000      -0.008      -0.007\n",
      "Lavage haute-pression            0.0013   6.35e-05     20.066      0.000       0.001       0.001\n",
      "Baie de service auto             0.0183   7.98e-05    229.938      0.000       0.018       0.019\n",
      "Laverie                         -0.0080      0.000    -70.608      0.000      -0.008      -0.008\n",
      "GPL                             -0.0073    6.2e-05   -117.976      0.000      -0.007      -0.007\n",
      "Boutique non alimentaire         0.0057   7.25e-05     79.096      0.000       0.006       0.006\n",
      "Lavage multi-programmes         -0.0038   6.71e-05    -55.891      0.000      -0.004      -0.004\n",
      "Douches                          0.0452      0.000    298.787      0.000       0.045       0.045\n",
      "Aire de camping-cars            -0.0002      0.000     -1.737      0.082      -0.000    2.67e-05\n",
      "Vente de fioul domestique        0.0050   7.17e-05     69.809      0.000       0.005       0.005\n",
      "Automate CB                     -0.0188   5.59e-05   -336.322      0.000      -0.019      -0.019\n",
      "Boutique alimentaire            -0.0014   7.54e-05    -17.991      0.000      -0.002      -0.001\n",
      "Vente de pétrole lampant        -0.0075   7.88e-05    -95.036      0.000      -0.008      -0.007\n",
      "Bar                             -0.0081      0.000    -70.317      0.000      -0.008      -0.008\n",
      "Rien                            -0.0135   9.51e-05   -141.573      0.000      -0.014      -0.013\n",
      "Relais colis                     0.0024   9.58e-05     25.470      0.000       0.002       0.003\n",
      "Station de gonflage              0.0095   6.15e-05    153.715      0.000       0.009       0.010\n",
      "Restauration à emporter         -0.0036   7.95e-05    -45.274      0.000      -0.004      -0.003\n",
      "==============================================================================\n",
      "Omnibus:                  1903875.157   Durbin-Watson:                   0.320\n",
      "Prob(Omnibus):                  0.000   Jarque-Bera (JB):        250598028.651\n",
      "Skew:                           1.881   Prob(JB):                         0.00\n",
      "Kurtosis:                      46.048   Cond. No.                         16.3\n",
      "==============================================================================\n",
      "\n",
      "Warnings:\n",
      "[1] Standard Errors assume that the covariance matrix of the errors is correctly specified.\n"
     ]
    }
   ],
   "source": [
    "X2 = sm.add_constant(model_services_df[list(set(matrice_services_df.columns)-{'id_station'})])\n",
    "est = sm.OLS(model_services_df.indice, X2)\n",
    "est2 = est.fit()\n",
    "print(est2.summary())"
   ]
  },
  {
   "cell_type": "markdown",
   "metadata": {},
   "source": [
    "### Modélisation (*Random Regressor*)"
   ]
  },
  {
   "cell_type": "code",
   "execution_count": 94,
   "metadata": {
    "collapsed": true
   },
   "outputs": [],
   "source": [
    "rf = RandomForestRegressor()"
   ]
  },
  {
   "cell_type": "code",
   "execution_count": 95,
   "metadata": {},
   "outputs": [
    {
     "data": {
      "text/plain": [
       "RandomForestRegressor(bootstrap=True, criterion='mse', max_depth=None,\n",
       "           max_features='auto', max_leaf_nodes=None,\n",
       "           min_impurity_split=1e-07, min_samples_leaf=1,\n",
       "           min_samples_split=2, min_weight_fraction_leaf=0.0,\n",
       "           n_estimators=10, n_jobs=1, oob_score=False, random_state=None,\n",
       "           verbose=0, warm_start=False)"
      ]
     },
     "execution_count": 95,
     "metadata": {},
     "output_type": "execute_result"
    }
   ],
   "source": [
    "rf.fit(X=model_services_df[list(set(matrice_services_df.columns)-{'id_station'})],\n",
    "       y=model_services_df.indice)"
   ]
  },
  {
   "cell_type": "code",
   "execution_count": 99,
   "metadata": {
    "collapsed": true
   },
   "outputs": [],
   "source": [
    "resultats_rf = pd.DataFrame(\n",
    "    [(f, c) for f, c in zip(list(set(matrice_services_df.columns)-{'id_station'}),\n",
    "                            rf.feature_importances_)],\n",
    "    columns=['Service', 'Coefficient']).sort_values('Coefficient', ascending=False)"
   ]
  },
  {
   "cell_type": "code",
   "execution_count": 100,
   "metadata": {},
   "outputs": [
    {
     "data": {
      "text/plain": [
       "<matplotlib.axes._subplots.AxesSubplot at 0x1621ef3b7b8>"
      ]
     },
     "execution_count": 100,
     "metadata": {},
     "output_type": "execute_result"
    },
    {
     "data": {
      "image/png": "[encoded data removed]",
      "text/plain": [
       "<matplotlib.figure.Figure at 0x1621f0930f0>"
      ]
     },
     "metadata": {},
     "output_type": "display_data"
    }
   ],
   "source": [
    "resultats_rf.set_index('Service').plot(kind='barh')"
   ]
  },
  {
   "cell_type": "code",
   "execution_count": null,
   "metadata": {
    "collapsed": true
   },
   "outputs": [],
   "source": []
  }
 ],
 "metadata": {
  "kernelspec": {
   "display_name": "Python 3",
   "language": "python",
   "name": "python3"
  },
  "language_info": {
   "codemirror_mode": {
    "name": "ipython",
    "version": 3
   },
   "file_extension": ".py",
   "mimetype": "text/x-python",
   "name": "python",
   "nbconvert_exporter": "python",
   "pygments_lexer": "ipython3",
   "version": "3.6.1"
  }
 },
 "nbformat": 4,
 "nbformat_minor": 2
}
