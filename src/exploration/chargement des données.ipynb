{
 "cells": [
  {
   "cell_type": "code",
   "execution_count": 76,
   "metadata": {
    "collapsed": true
   },
   "outputs": [],
   "source": [
    "import pandas as pd\n",
    "import os\n",
    "import json\n",
    "import glob\n",
    "import sqlite3"
   ]
  },
  {
   "cell_type": "code",
   "execution_count": 77,
   "metadata": {},
   "outputs": [],
   "source": [
    "with open('../parameters.json') as json_data:\n",
    "    params = json.load(json_data)\n",
    "\n",
    "DATA_DIR = params['DIRECTORIES']['DATA_DIR']\n",
    "TMP_DIR = params['DIRECTORIES']['TMP_DIR']\n",
    "PRICE_FILE = params['FILES']['PRICE_FILE']\n",
    "STATION_FILE = params['FILES']['STATION_FILE']\n",
    "SERVICE_FILE = params['FILES']['SERVICE_FILE']\n",
    "GAS_DB = os.path.join(DATA_DIR, params['DATABASES']['GAS_DB'])"
   ]
  },
  {
   "cell_type": "code",
   "execution_count": 32,
   "metadata": {
    "collapsed": true
   },
   "outputs": [],
   "source": [
    "gas_files = glob.glob(os.path.join(DATA_DIR, \"Prix*.zip\"))\n",
    "stations_file = 'Stations2016.zip'\n",
    "services_file = 'Services2016.zip'"
   ]
  },
  {
   "cell_type": "code",
   "execution_count": 38,
   "metadata": {},
   "outputs": [],
   "source": [
    "dfall = pd.DataFrame()\n",
    "\n",
    "for year in gas_files:\n",
    "    df = pd.read_csv(year,\n",
    "                     sep=';', header=None, dtype = {1: str}\n",
    "                    )\n",
    "    df.columns = ['id_station', 'code_postal', 'type_station',\n",
    "                  'latitude', 'longitude', 'date_releve',\n",
    "                  'type_carburant', 'libelle_carburant', 'prix']\n",
    "    dfall = pd.concat([dfall, df], axis=0)\n",
    "\n",
    "assert dfall.shape[1] == 9, \"Pas le bon nombre de colonnes\""
   ]
  },
  {
   "cell_type": "code",
   "execution_count": 56,
   "metadata": {},
   "outputs": [],
   "source": [
    "dfstations = pd.read_csv(os.path.join(DATA_DIR, stations_file),\n",
    "                         sep='|',\n",
    "                         header=None,\n",
    "                         dtype={1: str},\n",
    "                         encoding='utf-8')\n",
    "dfstations.columns = ['id_station', 'code_postal', 'type_station',\n",
    "                      'latitude', 'longitude', 'adresse', 'ville']"
   ]
  },
  {
   "cell_type": "code",
   "execution_count": 57,
   "metadata": {},
   "outputs": [],
   "source": [
    "dfservices = pd.read_csv(os.path.join(DATA_DIR, services_file),\n",
    "                         sep='|',\n",
    "                         header=None,\n",
    "                         dtype={1: str},\n",
    "                         encoding='utf-8')\n",
    "dfservices.columns = ['id_station', 'code_postal', 'type_station',\n",
    "                      'latitude', 'longitude', 'services']"
   ]
  },
  {
   "cell_type": "code",
   "execution_count": 72,
   "metadata": {},
   "outputs": [],
   "source": [
    "dfall.to_pickle(os.path.join(DATA_DIR, PRICE_FILE))\n",
    "dfstations.to_pickle(os.path.join(DATA_DIR, STATION_FILE))\n",
    "dfservices.to_pickle(os.path.join(DATA_DIR, SERVICE_FILE))"
   ]
  },
  {
   "cell_type": "code",
   "execution_count": 79,
   "metadata": {},
   "outputs": [],
   "source": [
    "cnx = sqlite3.connect(GAS_DB)"
   ]
  },
  {
   "cell_type": "code",
   "execution_count": 88,
   "metadata": {},
   "outputs": [],
   "source": [
    "dfall.to_sql('prices', cnx, index=False, if_exists='replace')"
   ]
  },
  {
   "cell_type": "code",
   "execution_count": 87,
   "metadata": {
    "collapsed": true
   },
   "outputs": [],
   "source": [
    "dfstations.to_sql('stations', cnx, index=False, if_exists='replace')"
   ]
  },
  {
   "cell_type": "code",
   "execution_count": 86,
   "metadata": {},
   "outputs": [],
   "source": [
    "dfservices.to_sql('services', cnx, index=False, if_exists='replace')"
   ]
  },
  {
   "cell_type": "code",
   "execution_count": null,
   "metadata": {
    "collapsed": true
   },
   "outputs": [],
   "source": []
  }
 ],
 "metadata": {
  "kernelspec": {
   "display_name": "Python 3",
   "language": "python",
   "name": "python3"
  },
  "language_info": {
   "codemirror_mode": {
    "name": "ipython",
    "version": 3
   },
   "file_extension": ".py",
   "mimetype": "text/x-python",
   "name": "python",
   "nbconvert_exporter": "python",
   "pygments_lexer": "ipython3",
   "version": "3.6.1"
  }
 },
 "nbformat": 4,
 "nbformat_minor": 2
}
